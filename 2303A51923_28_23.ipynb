{
  "nbformat": 4,
  "nbformat_minor": 0,
  "metadata": {
    "colab": {
      "provenance": [],
      "authorship_tag": "ABX9TyPu9x03g/w9i6RKoG4DwAWL",
      "include_colab_link": true
    },
    "kernelspec": {
      "name": "python3",
      "display_name": "Python 3"
    },
    "language_info": {
      "name": "python"
    }
  },
  "cells": [
    {
      "cell_type": "markdown",
      "metadata": {
        "id": "view-in-github",
        "colab_type": "text"
      },
      "source": [
        "<a href=\"https://colab.research.google.com/github/2303A51923/AIML-2024-25/blob/main/2303A51923_28_23.ipynb\" target=\"_parent\"><img src=\"https://colab.research.google.com/assets/colab-badge.svg\" alt=\"Open In Colab\"/></a>"
      ]
    },
    {
      "cell_type": "code",
      "source": [
        "import pandas as pd\n",
        "file_path = \"chord-fingers.csv\"\n",
        "data = pd.read_csv(file_path, delimiter=';')\n",
        "print(\"Dataset Head:\")\n",
        "print(data.head())\n",
        "print(\"\\nDataset Info:\")\n",
        "print(data.info())\n"
      ],
      "metadata": {
        "colab": {
          "base_uri": "https://localhost:8080/"
        },
        "id": "qqXlFbAPFoEr",
        "outputId": "2d65254e-ff33-42ad-b242-e438e7520662"
      },
      "execution_count": 11,
      "outputs": [
        {
          "output_type": "stream",
          "name": "stdout",
          "text": [
            "Dataset Head:\n",
            "  CHORD_ROOT CHORD_TYPE   CHORD_STRUCTURE FINGER_POSITIONS        NOTE_NAMES\n",
            "0         A#         13  1;3;5;b7;9;11;13      x,1,0,2,3,4  A#,C##,G#,B#,F##\n",
            "1         A#         13  1;3;5;b7;9;11;13      4,x,3,2,1,1  A#,G#,B#,C##,F##\n",
            "2         A#         13  1;3;5;b7;9;11;13      1,x,1,2,3,4  A#,G#,C##,F##,B#\n",
            "3         A#      7(#9)       1;3;5;b7;#9      x,1,0,2,4,3  A#,C##,G#,B##,E#\n",
            "4         A#      7(#9)       1;3;5;b7;#9      2,1,3,3,3,x  A#,C##,G#,B##,E#\n",
            "\n",
            "Dataset Info:\n",
            "<class 'pandas.core.frame.DataFrame'>\n",
            "RangeIndex: 2632 entries, 0 to 2631\n",
            "Data columns (total 5 columns):\n",
            " #   Column            Non-Null Count  Dtype \n",
            "---  ------            --------------  ----- \n",
            " 0   CHORD_ROOT        2632 non-null   object\n",
            " 1   CHORD_TYPE        2632 non-null   object\n",
            " 2   CHORD_STRUCTURE   2632 non-null   object\n",
            " 3   FINGER_POSITIONS  2632 non-null   object\n",
            " 4   NOTE_NAMES        2632 non-null   object\n",
            "dtypes: object(5)\n",
            "memory usage: 102.9+ KB\n",
            "None\n"
          ]
        }
      ]
    },
    {
      "cell_type": "code",
      "source": [
        "\n",
        "top_chords = data.groupby(['CHORD_ROOT', 'CHORD_TYPE']).size().sort_values(ascending=False).head(5)\n",
        "print(\"\\nTop 5 Most Played Chords:\")\n",
        "print(top_chords)\n"
      ],
      "metadata": {
        "colab": {
          "base_uri": "https://localhost:8080/"
        },
        "id": "nCsuPCzAFtik",
        "outputId": "eb3345f8-33af-4333-fa74-8434a19b9e6c"
      },
      "execution_count": 12,
      "outputs": [
        {
          "output_type": "stream",
          "name": "stdout",
          "text": [
            "\n",
            "Top 5 Most Played Chords:\n",
            "CHORD_ROOT  CHORD_TYPE\n",
            "Bb          6             22\n",
            "E           m7            21\n",
            "G           maj7          21\n",
            "E           maj           21\n",
            "A           m             20\n",
            "dtype: int64\n"
          ]
        }
      ]
    },
    {
      "cell_type": "code",
      "source": [
        "\n",
        "top_finger_positions = data['FINGER_POSITIONS'].value_counts().head(5)\n",
        "\n",
        "print(\"\\nTop 5 Finger Positions Used in Chords:\")\n",
        "print(top_finger_positions)\n"
      ],
      "metadata": {
        "colab": {
          "base_uri": "https://localhost:8080/"
        },
        "id": "fTzrht8gF0Wq",
        "outputId": "df9204ad-ef23-4e25-832f-c3a9d5b0e28d"
      },
      "execution_count": 13,
      "outputs": [
        {
          "output_type": "stream",
          "name": "stdout",
          "text": [
            "\n",
            "Top 5 Finger Positions Used in Chords:\n",
            "FINGER_POSITIONS\n",
            "x,x,1,3,2,4    68\n",
            "x,2,1,3,4,x    57\n",
            "x,2,3,1,4,x    40\n",
            "x,1,3,2,4,x    29\n",
            "2,x,3,4,1,x    28\n",
            "Name: count, dtype: int64\n"
          ]
        }
      ]
    },
    {
      "cell_type": "code",
      "source": [
        "\n",
        "data['STRING_MOVEMENTS'] = data['FINGER_POSITIONS'].str.split(',')\n",
        "from itertools import chain\n",
        "all_movements = list(chain.from_iterable(data['STRING_MOVEMENTS']))\n",
        "top_string_movements = pd.Series(all_movements).value_counts().head(5)\n",
        "print(\"\\nTop 5 String Movements for Song Composition:\")\n",
        "print(top_string_movements)\n"
      ],
      "metadata": {
        "colab": {
          "base_uri": "https://localhost:8080/"
        },
        "id": "HJUGnioUF4Jb",
        "outputId": "58de641d-bca4-471e-800b-cd63f97ddad7"
      },
      "execution_count": 14,
      "outputs": [
        {
          "output_type": "stream",
          "name": "stdout",
          "text": [
            "\n",
            "Top 5 String Movements for Song Composition:\n",
            "x    4477\n",
            "1    4246\n",
            "3    2513\n",
            "2    2008\n",
            "4    1678\n",
            "Name: count, dtype: int64\n"
          ]
        }
      ]
    },
    {
      "cell_type": "code",
      "source": [
        "\n",
        "middle_pinkie_chords = data[data['FINGER_POSITIONS'].str.contains('2') & data['FINGER_POSITIONS'].str.contains('4')]\n",
        "\n",
        "\n",
        "top_chords_middle_pinkie = middle_pinkie_chords.groupby(['CHORD_ROOT', 'CHORD_TYPE']).size().sort_values(ascending=False).head(5)\n",
        "print(\"\\nChords Most Suitable for Middle and Pinkie Fingers:\")\n",
        "print(top_chords_middle_pinkie)\n"
      ],
      "metadata": {
        "colab": {
          "base_uri": "https://localhost:8080/"
        },
        "id": "Sz4kRy7YF6p4",
        "outputId": "9044f8ca-18c8-498b-8f6a-3f3cc5a8ab1c"
      },
      "execution_count": 15,
      "outputs": [
        {
          "output_type": "stream",
          "name": "stdout",
          "text": [
            "\n",
            "Chords Most Suitable for Middle and Pinkie Fingers:\n",
            "CHORD_ROOT  CHORD_TYPE\n",
            "C           dim7          13\n",
            "G           7             13\n",
            "D#          dim7          11\n",
            "C           7             11\n",
            "            maj7          11\n",
            "dtype: int64\n"
          ]
        }
      ]
    },
    {
      "cell_type": "code",
      "source": [
        "\n",
        "middle_index_ring_chords = data[data['FINGER_POSITIONS'].str.contains('2') &\n",
        "                                data['FINGER_POSITIONS'].str.contains('1') &\n",
        "                                data['FINGER_POSITIONS'].str.contains('3')]\n",
        "\n",
        "\n",
        "top_chords_middle_index_ring = middle_index_ring_chords.groupby(['CHORD_ROOT', 'CHORD_TYPE']).size().sort_values(ascending=False).head(5)\n",
        "print(\"\\nChords with Middle, Index, and Ring Fingers:\")\n",
        "print(top_chords_middle_index_ring)\n"
      ],
      "metadata": {
        "colab": {
          "base_uri": "https://localhost:8080/"
        },
        "id": "RlRLi_9bF91I",
        "outputId": "e11f9f2c-99c8-4a14-bbfe-2a70d9c1edbb"
      },
      "execution_count": 16,
      "outputs": [
        {
          "output_type": "stream",
          "name": "stdout",
          "text": [
            "\n",
            "Chords with Middle, Index, and Ring Fingers:\n",
            "CHORD_ROOT  CHORD_TYPE\n",
            "G           7             18\n",
            "C           dim7          16\n",
            "A           dim7          16\n",
            "G           maj7          14\n",
            "C           7             14\n",
            "dtype: int64\n"
          ]
        }
      ]
    },
    {
      "cell_type": "code",
      "source": [],
      "metadata": {
        "id": "6ksZEnSnGAWb"
      },
      "execution_count": null,
      "outputs": []
    }
  ]
}